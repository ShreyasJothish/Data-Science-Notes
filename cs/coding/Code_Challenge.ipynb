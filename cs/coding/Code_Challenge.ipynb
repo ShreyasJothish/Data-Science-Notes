{
  "nbformat": 4,
  "nbformat_minor": 0,
  "metadata": {
    "colab": {
      "name": "Code Challenge.ipynb",
      "version": "0.3.2",
      "provenance": [],
      "include_colab_link": true
    },
    "kernelspec": {
      "name": "python3",
      "display_name": "Python 3"
    }
  },
  "cells": [
    {
      "cell_type": "markdown",
      "metadata": {
        "id": "view-in-github",
        "colab_type": "text"
      },
      "source": [
        "<a href=\"https://colab.research.google.com/github/ShreyasJothish/Data-Science-Notes/blob/master/cs/coding/Code_Challenge.ipynb\" target=\"_parent\"><img src=\"https://colab.research.google.com/assets/colab-badge.svg\" alt=\"Open In Colab\"/></a>"
      ]
    },
    {
      "cell_type": "markdown",
      "metadata": {
        "id": "gry1UoI5dyo8",
        "colab_type": "text"
      },
      "source": [
        "### Find longest word in dictionary that subsequence of given string#code-challenge\n",
        "https://techdevguide.withgoogle.com/paths/foundational/find-longest-word-in-dictionary-that-subsequence-of-given-string#code-challenge\n",
        "\n",
        "The Challenge\n",
        "Given a string S and a set of words D, find the longest word in D that is a subsequence of S.\n",
        "\n",
        "Word W is a subsequence of S if some number of characters, possibly zero, can be deleted from S to form W, without reordering the remaining characters.\n",
        "\n",
        "Note: D can appear in any format (list, hash table, prefix tree, etc.\n",
        "\n",
        "For example, given the input of S = \"abppplee\" and D = {\"able\", \"ale\", \"apple\", \"bale\", \"kangaroo\"} the correct output would be \"apple\"\n",
        "\n",
        "* The words \"able\" and \"ale\" are both subsequences of S, but they are shorter than \"apple\".\n",
        "* The word \"bale\" is not a subsequence of S because even though S has all the right letters, they are not in the right order.\n",
        "* The word \"kangaroo\" is the longest word in D, but it isn't a subsequence of S."
      ]
    },
    {
      "cell_type": "code",
      "metadata": {
        "id": "36f-BRRndv2o",
        "colab_type": "code",
        "outputId": "763fbc55-6c6a-4c8c-d903-4343515faa90",
        "colab": {
          "base_uri": "https://localhost:8080/",
          "height": 52
        }
      },
      "source": [
        "S = \"abppplee\"\n",
        "\n",
        "# Sorting the set based on length of the words\n",
        "D = {\"able\", \"ale\", \"apple\", \"bale\", \"kangaroo\", \"abppple\"}\n",
        "D = sorted(D, key=len, reverse=True)\n",
        "print(D)\n",
        "\n",
        "# Check each word in D to see if it is a possible sequence...\n",
        "for word in D:\n",
        "    word_index = 0\n",
        "    string_index = 0\n",
        "    while word_index < len(word) and string_index < len(S):\n",
        "        if word[word_index] == S[string_index]:\n",
        "            word_index += 1\n",
        "            string_index += 1\n",
        "        else:\n",
        "            string_index += 1\n",
        "    \n",
        "    if word_index == len(word) and string_index <= len(S):\n",
        "        print(word)\n",
        "        break        "
      ],
      "execution_count": 1,
      "outputs": [
        {
          "output_type": "stream",
          "text": [
            "['kangaroo', 'abppple', 'apple', 'able', 'bale', 'ale']\n",
            "abppple\n"
          ],
          "name": "stdout"
        }
      ]
    },
    {
      "cell_type": "markdown",
      "metadata": {
        "id": "1y6yg7Q4j-kQ",
        "colab_type": "text"
      },
      "source": [
        "```\n",
        "#!/usr/bin/env python\n",
        "import collections\n",
        "import sys\n",
        "def find_longest_word_in_string(letters, words):\n",
        "    letter_positions = collections.defaultdict(list)\n",
        "    # For each letter in 'letters', collect all the indices at which it appears.\n",
        "    # O(#letters) space and speed.\n",
        "    for index, letter in enumerate(letters):\n",
        "        letter_positions[letter].append(index)\n",
        "    # For words, in descending order by length...\n",
        "    # Bails out early on first matched word, and within word on\n",
        "    # impossible letter/position combinations, but worst case is\n",
        "    # O(#words # avg-len) * O(#letters / 26) time; constant space.\n",
        "    # With some work, could be O(#W * avg-len) * log2(#letters/26)\n",
        "    # But since binary search has more overhead\n",
        "    # than simple iteration, log2(#letters) is about as \n",
        "    # expensive as simple iterations as long as \n",
        "    # the length of the arrays for each letter is\n",
        "    # “small”.  If letters are randomly present in the\n",
        "    # search string, the log2 is about equal in speed to simple traversal\n",
        "    # up to lengths of a few hundred characters.              \n",
        "    for word in sorted(words, key=lambda w: len(w), reverse=True):\n",
        "        pos = 0\n",
        "        for letter in word:\n",
        "            if letter not in letter_positions:\n",
        "                break\n",
        "        # Find any remaining valid positions in search string where this\n",
        "        # letter appears.  It would be better to do this with binary search,\n",
        "        # but this is very Python-ic.\n",
        "        possible_positions = [p for p in letter_positions[letter] if p >= pos]\n",
        "        if not possible_positions:\n",
        "            break\n",
        "        pos = possible_positions[0] + 1\n",
        "        else:\n",
        "            # We didn't break out of the loop, so all letters have valid positions  \n",
        "            return word\n",
        "if __name__ == '__main__':\n",
        "    print subdict(sys.argv[1], sys.argv[2:])\n",
        "```"
      ]
    },
    {
      "cell_type": "markdown",
      "metadata": {
        "id": "S_90pJguOFDo",
        "colab_type": "text"
      },
      "source": [
        "### string_splosion\n",
        "\n",
        "Given a non-empty string like \"Code\" return a string like \"CCoCodCode\".\n",
        "\n",
        "\n",
        "string_splosion('Code') → 'CCoCodCode'\n",
        "string_splosion('abc') → 'aababc'\n",
        "string_splosion('ab') → 'aab'"
      ]
    },
    {
      "cell_type": "code",
      "metadata": {
        "id": "rZcppl-mONaN",
        "colab_type": "code",
        "colab": {
          "base_uri": "https://localhost:8080/",
          "height": 121
        },
        "outputId": "74f3f18c-836b-4d95-9061-c25f5fc08c57"
      },
      "source": [
        "def string_splosion(str):\n",
        "  output = \"\"\n",
        "  for i in range(len(str)):\n",
        "    output += str[:i+1]\n",
        "  return output\n",
        "\n",
        "print(\"string_splosion('Code') → 'CCoCodCode'\")    \n",
        "print(f\"output: {string_splosion('Code')}\")\n",
        "\n",
        "print(\"string_splosion('abc')  → 'aababc'\")    \n",
        "print(f\"output: {string_splosion('abc')}\")\n",
        "\n",
        "print(\"string_splosion('ab')  → 'aab'\")    \n",
        "print(f\"output: {string_splosion('ab')}\")"
      ],
      "execution_count": 2,
      "outputs": [
        {
          "output_type": "stream",
          "text": [
            "string_splosion('Code') → 'CCoCodCode'\n",
            "output: CCoCodCode\n",
            "string_splosion('abc')  → 'aababc'\n",
            "output: aababc\n",
            "string_splosion('ab')  → 'aab'\n",
            "output: aab\n"
          ],
          "name": "stdout"
        }
      ]
    },
    {
      "cell_type": "markdown",
      "metadata": {
        "id": "bNVm5TDiPHs_",
        "colab_type": "text"
      },
      "source": [
        "### maxSpan\n",
        "\n",
        "Consider the leftmost and righmost appearances of some value in an array. We'll say that the \"span\" is the number of elements between the two inclusive. A single value has a span of 1. Returns the largest span found in the given array. (Efficiency is not a priority.)\n",
        "\n",
        "\n",
        "maxSpan([1, 2, 1, 1, 3]) → 4\n",
        "\n",
        "maxSpan([1, 4, 2, 1, 4, 1, 4]) → 6\n",
        "\n",
        "maxSpan([1, 4, 2, 1, 4, 4, 4]) → 6"
      ]
    },
    {
      "cell_type": "code",
      "metadata": {
        "id": "q1wZK9W3POh7",
        "colab_type": "code",
        "outputId": "8138ab91-655f-47b0-ebe4-521f7186342a",
        "colab": {
          "base_uri": "https://localhost:8080/",
          "height": 121
        }
      },
      "source": [
        "import collections\n",
        "\n",
        "def maxSpan(input):\n",
        "    number_positions = collections.defaultdict(list)\n",
        "    \n",
        "    for index, number in enumerate(input):\n",
        "        number_positions[number].append(index)\n",
        "    \n",
        "    output = 0\n",
        "    for number in number_positions:\n",
        "        current_list = number_positions[number]\n",
        "        if len(current_list) > 1:\n",
        "            current_span = current_list[-1] - current_list[0] + 1\n",
        "        else:\n",
        "            current_span = 1\n",
        "        \n",
        "        if current_span > output:\n",
        "            output = current_span\n",
        "\n",
        "    return output\n",
        "\n",
        "print(\"maxSpan([1, 2, 1, 1, 3]) → 4\")    \n",
        "print(f\"output: {maxSpan([1, 2, 1, 1, 3])}\")\n",
        "\n",
        "print(\"maxSpan([1, 4, 2, 1, 4, 1, 4]) → 6\")\n",
        "print(f\"output: {maxSpan([1, 4, 2, 1, 4, 1, 4])}\")\n",
        "\n",
        "print(\"maxSpan([1, 4, 2, 1, 4, 4, 4]) → 6\")\n",
        "print(f\"output: {maxSpan([1, 4, 2, 1, 4, 4, 4])}\")\n",
        "    "
      ],
      "execution_count": 3,
      "outputs": [
        {
          "output_type": "stream",
          "text": [
            "maxSpan([1, 2, 1, 1, 3]) → 4\n",
            "output: 4\n",
            "maxSpan([1, 4, 2, 1, 4, 1, 4]) → 6\n",
            "output: 6\n",
            "maxSpan([1, 4, 2, 1, 4, 4, 4]) → 6\n",
            "output: 6\n"
          ],
          "name": "stdout"
        }
      ]
    },
    {
      "cell_type": "markdown",
      "metadata": {
        "id": "NzylYiZoSrgX",
        "colab_type": "text"
      },
      "source": [
        "### withoutString\n",
        "\n",
        "Given two strings, base and remove, return a version of the base string where all instances of the remove string have been removed (not case sensitive). You may assume that the remove string is length 1 or more. Remove only non-overlapping instances, so with \"xxx\" removing \"xx\" leaves \"x\".\n",
        "\n",
        "\n",
        "withoutString(\"Hello there\", \"llo\") → \"He there\"\n",
        "\n",
        "withoutString(\"Hello there\", \"e\") → \"Hllo thr\"\n",
        "\n",
        "withoutString(\"Hello there\", \"x\") → \"Hello there\""
      ]
    },
    {
      "cell_type": "code",
      "metadata": {
        "id": "eIZLEOJISqte",
        "colab_type": "code",
        "outputId": "b843b86f-b573-469c-b61e-162cb6821151",
        "colab": {
          "base_uri": "https://localhost:8080/",
          "height": 121
        }
      },
      "source": [
        "def withoutString(base, remove):\n",
        "    output = \"\"\n",
        "    \n",
        "    base_case_removed = base.lower()\n",
        "    remove_case_removed = remove.lower()\n",
        "    \n",
        "    i = 0\n",
        "    while i < len(base_case_removed):\n",
        "        if base_case_removed[i] != remove_case_removed[0]:\n",
        "            output += base[i]\n",
        "            i += 1\n",
        "        else:\n",
        "            for j in range(len(remove_case_removed)):\n",
        "                if base_case_removed[i+j] != remove_case_removed[j]:\n",
        "                    output += base[i]\n",
        "                    i += 1\n",
        "                    break\n",
        "            \n",
        "            # If all the characters matched, dont append them to output\n",
        "            if j == len(remove_case_removed)-1:\n",
        "                i = i+j+1\n",
        "     \n",
        "    return output\n",
        "                    \n",
        "print('withoutString(\"Hello there\", \"llo\") → \"He there\"')\n",
        "print(f'output: {withoutString(\"Hello there\", \"llo\")}')\n",
        "\n",
        "print('withoutString(\"Hello there\", \"e\") → \"Hllo thr\"')\n",
        "print(f'output: {withoutString(\"Hello there\", \"e\")}')\n",
        "\n",
        "print('withoutString(\"Hello there\", \"x\") → \"Hello there\"')\n",
        "print(f'output: {withoutString(\"Hello there\", \"x\")}')\n",
        "    "
      ],
      "execution_count": 4,
      "outputs": [
        {
          "output_type": "stream",
          "text": [
            "withoutString(\"Hello there\", \"llo\") → \"He there\"\n",
            "output: He there\n",
            "withoutString(\"Hello there\", \"e\") → \"Hllo thr\"\n",
            "output: Hllo thr\n",
            "withoutString(\"Hello there\", \"x\") → \"Hello there\"\n",
            "output: Hello there\n"
          ],
          "name": "stdout"
        }
      ]
    },
    {
      "cell_type": "markdown",
      "metadata": {
        "id": "GwSMItl8aUJJ",
        "colab_type": "text"
      },
      "source": [
        "### sumNumbers \n",
        "\n",
        "Given a string, return the sum of the numbers appearing in the string, ignoring all other characters. A number is a series of 1 or more digit chars in a row. (Note: Character.isDigit(char) tests if a char is one of the chars '0', '1', .. '9'. Integer.parseInt(string) converts a string to an int.)\n",
        "\n",
        "\n",
        "sumNumbers(\"abc123xyz\") → 123\n",
        "\n",
        "sumNumbers(\"aa11b33\") → 44\n",
        "\n",
        "sumNumbers(\"7 11\") → 18"
      ]
    },
    {
      "cell_type": "code",
      "metadata": {
        "id": "EpmgdiV4aRg7",
        "colab_type": "code",
        "outputId": "2cee9fa3-a126-4a31-8f52-f562daa0c3d0",
        "colab": {
          "base_uri": "https://localhost:8080/",
          "height": 121
        }
      },
      "source": [
        "numerical_character = [str(i) for i in range(0, 10)]\n",
        "\n",
        "def sumNumbers(input_str):\n",
        "    \n",
        "    start_index = None\n",
        "    sum = 0\n",
        "    for index, value in enumerate(input_str):\n",
        "        \n",
        "        # if start_index:\n",
        "        if start_index is not None:\n",
        "            if value not in numerical_character:\n",
        "                sum += int(input_str[start_index: index])\n",
        "                start_index = None\n",
        "                \n",
        "            elif index == len(input_str)-1:\n",
        "                sum += int(input_str[start_index:])\n",
        "                start_index = None\n",
        "        \n",
        "        elif value in numerical_character:\n",
        "            start_index = index\n",
        "    \n",
        "    return sum\n",
        "\n",
        "print('sumNumbers(\"abc123xyz\") → 123')\n",
        "print(f'output: {sumNumbers(\"abc123xyz\")}' )\n",
        "\n",
        "print('sumNumbers(\"aa11b33\") → 44')\n",
        "print(f'output: {sumNumbers(\"aa11b33\")}')\n",
        "\n",
        "print('sumNumbers(\"7 11\") → 18')\n",
        "print(f'output: {sumNumbers(\"7 11\")}')\n",
        "            "
      ],
      "execution_count": 5,
      "outputs": [
        {
          "output_type": "stream",
          "text": [
            "sumNumbers(\"abc123xyz\") → 123\n",
            "output: 123\n",
            "sumNumbers(\"aa11b33\") → 44\n",
            "output: 44\n",
            "sumNumbers(\"7 11\") → 18\n",
            "output: 18\n"
          ],
          "name": "stdout"
        }
      ]
    },
    {
      "cell_type": "markdown",
      "metadata": {
        "id": "BR39Z_ZImnnY",
        "colab_type": "text"
      },
      "source": [
        "### canBalance\n",
        "\n",
        "Given a non-empty array, return true if there is a place to split the array so that the sum of the numbers on one side is equal to the sum of the numbers on the other side.\n",
        "\n",
        "\n",
        "canBalance([1, 1, 1, 2, 1]) → true\n",
        "\n",
        "canBalance([2, 1, 1, 2, 1]) → false\n",
        "\n",
        "canBalance([10, 10]) → true"
      ]
    },
    {
      "cell_type": "code",
      "metadata": {
        "id": "gx8zxYopezb3",
        "colab_type": "code",
        "outputId": "35dfd95a-154a-43df-dee7-879fcbf55e86",
        "colab": {
          "base_uri": "https://localhost:8080/",
          "height": 121
        }
      },
      "source": [
        "def canBalance(input_list):\n",
        "    total_sum = 0\n",
        "    for _ in input_list:\n",
        "        total_sum += _\n",
        "    \n",
        "    forward_sum = 0\n",
        "    for i in range(len(input_list)):\n",
        "        forward_sum += input_list[i]\n",
        "        \n",
        "        if forward_sum == (total_sum - forward_sum):\n",
        "            return True\n",
        "    \n",
        "    return False\n",
        "\n",
        "\n",
        "print('canBalance([1, 1, 1, 2, 1]) → true')\n",
        "print(f'output: {canBalance([1, 1, 1, 2, 1])}')\n",
        "\n",
        "print('canBalance([2, 1, 1, 2, 1]) → false')\n",
        "print(f'output: {canBalance([2, 1, 1, 2, 1])}')\n",
        "\n",
        "print('canBalance([10, 10]) → true')\n",
        "print(f'output: {canBalance([10, 10])}')\n",
        "            "
      ],
      "execution_count": 6,
      "outputs": [
        {
          "output_type": "stream",
          "text": [
            "canBalance([1, 1, 1, 2, 1]) → true\n",
            "output: True\n",
            "canBalance([2, 1, 1, 2, 1]) → false\n",
            "output: False\n",
            "canBalance([10, 10]) → true\n",
            "output: True\n"
          ],
          "name": "stdout"
        }
      ]
    },
    {
      "cell_type": "markdown",
      "metadata": {
        "id": "tZKsZefqf75c",
        "colab_type": "text"
      },
      "source": [
        "Problem of the Day:\n",
        "Given an encoded string, return its decoded string.\n",
        "The encoding rule is: `k[encoded_string]`, where the encoded_string inside the square brackets is being repeated exactly k times. Note that k is guaranteed to be a positive integer.\n",
        "\n",
        "You may assume that the input string is always valid; No extra white spaces, square brackets are well-formed, etc.\n",
        "\n",
        "Furthermore, you may assume that the original data does not contain any digits and that digits are only for those repeat numbers, k. For example, there won't be input like `3a or 2[4]`.\n",
        "\n",
        "```\n",
        "Example:\n",
        "                      \n",
        "  Input: \"3[a]2[bc]\"\n",
        "  Output: \"aaabcbc\"\n",
        "\n",
        "  Input: \"2[abc]3[cd]ef\"\n",
        "  Output: \"abcabccdcdcdef\"\n",
        "\n",
        "  Input: \"3[a2[c]]\"\n",
        "  Output: \"accaccacc\"\n",
        "```"
      ]
    },
    {
      "cell_type": "code",
      "metadata": {
        "id": "jd3e1aXNf6rK",
        "colab_type": "code",
        "colab": {}
      },
      "source": [
        "def encoded_string(input):\n",
        "    stack = []\n",
        "    numbers = [str(i) for i in range(10)]\n",
        "    \n",
        "    for ch in input:\n",
        "        if ch != ']':\n",
        "            stack.append(ch)\n",
        "        else:\n",
        "            # Read non-numerical characters\n",
        "            substring = []\n",
        "            popch = None\n",
        "            \n",
        "            if len(stack):\n",
        "                popch = stack.pop()\n",
        "            \n",
        "            while popch != '[':\n",
        "                substring += popch\n",
        "                if len(stack):\n",
        "                    popch = stack.pop()\n",
        "            substring = substring[::-1]\n",
        "            # print(substring)\n",
        "            \n",
        "            # Read numerical characters\n",
        "            k = []\n",
        "            popch = None\n",
        "            \n",
        "            if len(stack):\n",
        "                popch = stack.pop()\n",
        "            \n",
        "            while popch in numbers:\n",
        "                k += popch\n",
        "                if len(stack):\n",
        "                    popch = stack.pop()\n",
        "                else:\n",
        "                    break\n",
        "            \n",
        "            # Re-insert the last pop if stack is not empty.\n",
        "            if len(stack):\n",
        "                stack.append(popch)\n",
        "            \n",
        "            k = int(''.join(k[::-1]))\n",
        "            # print(k)\n",
        "            \n",
        "            tempstr = substring * k\n",
        "            # print(tempstr)\n",
        "            \n",
        "            stack += tempstr\n",
        "        \n",
        "    return ''.join(stack)"
      ],
      "execution_count": 0,
      "outputs": []
    },
    {
      "cell_type": "code",
      "metadata": {
        "id": "6Kj8cTiErd0r",
        "colab_type": "code",
        "colab": {}
      },
      "source": [
        "import unittest\n",
        "\n",
        "class TestStringMethods(unittest.TestCase):\n",
        "\n",
        "    def test_case1(self):\n",
        "        self.assertEqual(encoded_string(\"3[a]2[bc]\"), \"aaabcbc\")\n",
        "\n",
        "    def test_case2(self):\n",
        "        self.assertEqual(encoded_string(\"2[abc]3[cd]ef\"), \"abcabccdcdcdef\")\n",
        "\n",
        "    def test_case3(self):\n",
        "        self.assertEqual(encoded_string(\"3[a2[c]]\"), \"accaccacc\")"
      ],
      "execution_count": 0,
      "outputs": []
    },
    {
      "cell_type": "code",
      "metadata": {
        "id": "yRYVl83RsWMq",
        "colab_type": "code",
        "outputId": "530f4775-0213-4957-811a-944c5b8720c8",
        "colab": {
          "base_uri": "https://localhost:8080/",
          "height": 104
        }
      },
      "source": [
        "if __name__ == '__main__':\n",
        "    unittest.main(argv=['first-arg-is-ignored'], exit=False)"
      ],
      "execution_count": 9,
      "outputs": [
        {
          "output_type": "stream",
          "text": [
            "...\n",
            "----------------------------------------------------------------------\n",
            "Ran 3 tests in 0.004s\n",
            "\n",
            "OK\n"
          ],
          "name": "stderr"
        }
      ]
    }
  ]
}